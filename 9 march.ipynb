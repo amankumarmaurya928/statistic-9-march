{
 "cells": [
  {
   "cell_type": "code",
   "execution_count": 1,
   "id": "8d519be5-afcb-4870-8ec8-0b30f8845c41",
   "metadata": {},
   "outputs": [
    {
     "data": {
      "text/plain": [
       "'\\nProbability mass function (PMF):\\nThe PMF is a function that describes the probability of a discrete random variable taking on a certain value.\\nIt is a mathematical function that describes the probability that a random variable will take on a specific value rather than \\nfalling within a range of values.\\n Example:-\\n Suppose a fair coin is tossed twice \\n sample space , S = [HH, HT, TH, TT].\\n The probability of getting heads needs to be determined.\\n Let X be the random variable that shows how many heads are obtained. \\n X can take on the values 0, 1, 2. The probability that X will be equal to 1 is 0.5.\\n Thus, the probability mass function of X evaluated at 1 will be 0.5.\\n\\nProbability density function (PDF):\\nThe PDF is a function that describes the probability of a continuous random variable taking on a certain value.\\nIt is a mathematical function that describes the probability that a random variable will fall within a certain range of values.\\n example:-\\n let us look at the number observed when rolling two standard six-sided dice.\\n Each die has a 1/6 probability of rolling any single number, \\n one through six, but the sum of two dice will form the probability distribution depicted in the image below.\\n\\nSeven is the most common outcome (1+6, 6+1, 5+2, 2+5, 3+4, 4+3).\\nTwo and twelve, on the other hand, are far less likely (1+1 and 6+6)\\n '"
      ]
     },
     "execution_count": 1,
     "metadata": {},
     "output_type": "execute_result"
    }
   ],
   "source": [
    "# Q1\n",
    "'''\n",
    "Probability mass function (PMF):\n",
    "The PMF is a function that describes the probability of a discrete random variable taking on a certain value.\n",
    "It is a mathematical function that describes the probability that a random variable will take on a specific value rather than \n",
    "falling within a range of values.\n",
    " Example:-\n",
    " Suppose a fair coin is tossed twice \n",
    " sample space , S = [HH, HT, TH, TT].\n",
    " The probability of getting heads needs to be determined.\n",
    " Let X be the random variable that shows how many heads are obtained. \n",
    " X can take on the values 0, 1, 2. The probability that X will be equal to 1 is 0.5.\n",
    " Thus, the probability mass function of X evaluated at 1 will be 0.5.\n",
    "\n",
    "Probability density function (PDF):\n",
    "The PDF is a function that describes the probability of a continuous random variable taking on a certain value.\n",
    "It is a mathematical function that describes the probability that a random variable will fall within a certain range of values.\n",
    " example:-\n",
    " let us look at the number observed when rolling two standard six-sided dice.\n",
    " Each die has a 1/6 probability of rolling any single number, \n",
    " one through six, but the sum of two dice will form the probability distribution depicted in the image below.\n",
    "\n",
    "Seven is the most common outcome (1+6, 6+1, 5+2, 2+5, 3+4, 4+3).\n",
    "Two and twelve, on the other hand, are far less likely (1+1 and 6+6)\n",
    " '''"
   ]
  },
  {
   "cell_type": "code",
   "execution_count": 1,
   "id": "faff146e-318f-408d-99a0-81a6f980ccd8",
   "metadata": {},
   "outputs": [
    {
     "data": {
      "text/plain": [
       "'The cumulative distribution function is used to describe the probability distribution of random variables.\\nIt can be used to describe the probability for a discrete, continuous or mixed variable.\\n\\nexample:-\\n If X is the random variable we associated previously with rolling a fair six-sided die, \\n then we can easily write down the CDF of X.\\n\\nWe already computed that the PDF of X is given by Pr(X = k) = 1/6 for k = 1,2,...,6. \\nThe CDF can be computed by summing these probabilities sequentially\\nPr(X ≤ 1) = 1/6\\nPr(X ≤ 2) = 2/6\\nPr(X ≤ 3) = 3/6\\nPr(X ≤ 4) = 4/6\\nPr(X ≤ 5) = 5/6\\nPr(X ≤ 6) = 6/6 = 1\\n'"
      ]
     },
     "execution_count": 1,
     "metadata": {},
     "output_type": "execute_result"
    }
   ],
   "source": [
    "# Q2\n",
    "'''The cumulative distribution function is used to describe the probability distribution of random variables.\n",
    "It can be used to describe the probability for a discrete, continuous or mixed variable.\n",
    "\n",
    "example:-\n",
    " If X is the random variable we associated previously with rolling a fair six-sided die, \n",
    " then we can easily write down the CDF of X.\n",
    "\n",
    "We already computed that the PDF of X is given by Pr(X = k) = 1/6 for k = 1,2,...,6. \n",
    "The CDF can be computed by summing these probabilities sequentially\n",
    "Pr(X ≤ 1) = 1/6\n",
    "Pr(X ≤ 2) = 2/6\n",
    "Pr(X ≤ 3) = 3/6\n",
    "Pr(X ≤ 4) = 4/6\n",
    "Pr(X ≤ 5) = 5/6\n",
    "Pr(X ≤ 6) = 6/6 = 1\n",
    "'''"
   ]
  },
  {
   "cell_type": "code",
   "execution_count": 4,
   "id": "8bb512a5-12f7-4012-a826-df3fb94fb0ae",
   "metadata": {},
   "outputs": [
    {
     "data": {
      "text/plain": [
       "'We convert normal distributions into the standard normal distribution for several reasons:\\nTo find the probability of observations in a distribution falling above or below a given value.\\nTo find the probability that a sample mean significantly differs from a known population mean.\\n\\n example:-\\n consider: X={1,2,3,4,5}\\n u=0, std =~1\\n z-score= (Xi-u)/std\\n X=~ SND(u=0,std=1)\\n \\n Normal distribution is related to shape:\\n On the graph, the standard deviation determines the width of the curve,\\n and it tightens or expands the width of the distribution along the x-axis.\\n Typically, a small standard deviation relative to the mean produces a steep curve,\\n while a large standard deviation relative to the mean produces a flatter curve.\\n'"
      ]
     },
     "execution_count": 4,
     "metadata": {},
     "output_type": "execute_result"
    }
   ],
   "source": [
    "# Q3\n",
    "'''We convert normal distributions into the standard normal distribution for several reasons:\n",
    "To find the probability of observations in a distribution falling above or below a given value.\n",
    "To find the probability that a sample mean significantly differs from a known population mean.\n",
    "\n",
    " example:-\n",
    " consider: X={1,2,3,4,5}\n",
    " u=0, std =~1\n",
    " z-score= (Xi-u)/std\n",
    " X=~ SND(u=0,std=1)\n",
    " \n",
    " Normal distribution is related to shape:\n",
    " On the graph, the standard deviation determines the width of the curve,\n",
    " and it tightens or expands the width of the distribution along the x-axis.\n",
    " Typically, a small standard deviation relative to the mean produces a steep curve,\n",
    " while a large standard deviation relative to the mean produces a flatter curve.\n",
    "'''"
   ]
  },
  {
   "cell_type": "code",
   "execution_count": 2,
   "id": "5c6cb56a-8ae0-413b-8e6d-bb836f508e0c",
   "metadata": {},
   "outputs": [
    {
     "data": {
      "text/plain": [
       "'Normal distributions are very important in statistics and often they are very naturally occurring. \\nOne of the main reasons for the popularity of the Normal Distribution curve is that it occurs very commonly \\nin most of the things we see in nature around us.\\nFor example:\\nin finance, like the salary distribution in an office, healthcare, hydrology, height/weight distributions,\\ngrading distribution, Percentile calculations, and much more. You name it and normal distribution owns it.\\n'"
      ]
     },
     "execution_count": 2,
     "metadata": {},
     "output_type": "execute_result"
    }
   ],
   "source": [
    "# Q4\n",
    "'''Normal distributions are very important in statistics and often they are very naturally occurring. \n",
    "One of the main reasons for the popularity of the Normal Distribution curve is that it occurs very commonly \n",
    "in most of the things we see in nature around us.\n",
    "For example:\n",
    "in finance, like the salary distribution in an office, healthcare, hydrology, height/weight distributions,\n",
    "grading distribution, Percentile calculations, and much more. You name it and normal distribution owns it.\n",
    "'''"
   ]
  },
  {
   "cell_type": "code",
   "execution_count": 3,
   "id": "a3f2af19-6200-4526-a083-47ff50d7b31f",
   "metadata": {},
   "outputs": [
    {
     "data": {
      "text/plain": [
       "\"The Bernoulli distribution therefore describes events having exactly two outcomes, which are ubiquitous in real life.\\nOR\\n   In probability theory and statistics,\\n  the bernolli distribution, named after swiss mathematician jacob bernolli, is the discrete probability distribution\\n  of a random variable which takes the value 1 with probability p and the value 0 with probabilty q= 1-p. Less formally,\\n  it can be thought of as model for thed set of possible outcomes of any single experiment that asks a yes-no question.\\n  such questions lead to outcomes that are boolean - valued: a single bit whose value is success/yes/true/one with \\n  probability p and failure/no/false/zero with probability q.\\n  \\n  outcomes are binary \\n  examples :\\n  a team will win a championship or not, a student will pass or fail an exam, and a rolled dice will either \\n  show a 6 or any other number.\\n  \\n  \\n=>Between Bernoulli Distribution and Binomial Distribution:-\\n  1.The Bernoulli distribution represents the success or failure of a single Bernoulli trial.\\n    The Binomial Distribution represents the number of successes and failures in n independent Bernoulli trials for some given value of n.\\n \\n  2.Bernoulli's trial is also said to be a binomial trial. In the case of the Bernoulli trial, there are only two possible outcomes.\\n    But, in the case of the binomial distribution, we get the number of successes in a sequence of independent experiments.\\n  \""
      ]
     },
     "execution_count": 3,
     "metadata": {},
     "output_type": "execute_result"
    }
   ],
   "source": [
    "# Q5\n",
    "'''The Bernoulli distribution therefore describes events having exactly two outcomes, which are ubiquitous in real life.\n",
    "OR\n",
    "   In probability theory and statistics,\n",
    "  the bernolli distribution, named after swiss mathematician jacob bernolli, is the discrete probability distribution\n",
    "  of a random variable which takes the value 1 with probability p and the value 0 with probabilty q= 1-p. Less formally,\n",
    "  it can be thought of as model for thed set of possible outcomes of any single experiment that asks a yes-no question.\n",
    "  such questions lead to outcomes that are boolean - valued: a single bit whose value is success/yes/true/one with \n",
    "  probability p and failure/no/false/zero with probability q.\n",
    "  \n",
    "  outcomes are binary \n",
    "  examples :\n",
    "  a team will win a championship or not, a student will pass or fail an exam, and a rolled dice will either \n",
    "  show a 6 or any other number.\n",
    "  \n",
    "  \n",
    "=>Between Bernoulli Distribution and Binomial Distribution:-\n",
    "  1.The Bernoulli distribution represents the success or failure of a single Bernoulli trial.\n",
    "    The Binomial Distribution represents the number of successes and failures in n independent Bernoulli trials for some given value of n.\n",
    " \n",
    "  2.Bernoulli's trial is also said to be a binomial trial. In the case of the Bernoulli trial, there are only two possible outcomes.\n",
    "    But, in the case of the binomial distribution, we get the number of successes in a sequence of independent experiments.\n",
    "  '''"
   ]
  },
  {
   "cell_type": "code",
   "execution_count": 5,
   "id": "53442550-f2ee-4946-a6f9-c23fee0e89c3",
   "metadata": {},
   "outputs": [
    {
     "data": {
      "text/plain": [
       "' \\ngiven:\\nmean, u=50, std=10\\nto find the probability that a randomly selected observation will be greater than 60.\\nformula,z-score = (X - mean)/std (in this X =60)\\nz-score= 1.0\\narea of probability= (1- .8413) = 0.1587\\npecentage= 15.87% appor. area\\n'"
      ]
     },
     "execution_count": 5,
     "metadata": {},
     "output_type": "execute_result"
    }
   ],
   "source": [
    "# Q6\n",
    "''' \n",
    "given:\n",
    "mean, u=50, std=10\n",
    "to find the probability that a randomly selected observation will be greater than 60.\n",
    "formula,z-score = (X - mean)/std (in this X =60)\n",
    "z-score= 1.0\n",
    "area of probability= (1- .8413) = 0.1587\n",
    "pecentage= 15.87% appor. area\n",
    "'''"
   ]
  },
  {
   "cell_type": "code",
   "execution_count": 6,
   "id": "4da9513d-5c6c-4773-81bc-4254526d6227",
   "metadata": {},
   "outputs": [
    {
     "data": {
      "text/plain": [
       "'uniform distribution refers to a type of probability distribution in which all outcomes are equally likely. \\nA deck of cards has within it uniform distributions because the likelihood of drawing a heart, a club, a diamond,\\nor a spade is equally likely. \\nExample:\\nA coin also has a uniform distribution because the probability of getting either heads or tails in a coin toss \\nis the same.\\n'"
      ]
     },
     "execution_count": 6,
     "metadata": {},
     "output_type": "execute_result"
    }
   ],
   "source": [
    "# Q7\n",
    "'''uniform distribution refers to a type of probability distribution in which all outcomes are equally likely. \n",
    "A deck of cards has within it uniform distributions because the likelihood of drawing a heart, a club, a diamond,\n",
    "or a spade is equally likely. \n",
    "Example:\n",
    "A coin also has a uniform distribution because the probability of getting either heads or tails in a coin toss \n",
    "is the same.\n",
    "'''"
   ]
  },
  {
   "cell_type": "code",
   "execution_count": 7,
   "id": "ef57d2ef-8bfa-4027-bcb7-22762761cab9",
   "metadata": {},
   "outputs": [
    {
     "data": {
      "text/plain": [
       "'The z-score is the answer to the question.\\nThe z-score is particularly important because it tells you not only something about the value itself,\\nbut also where the value lies in the distribution.\\n'"
      ]
     },
     "execution_count": 7,
     "metadata": {},
     "output_type": "execute_result"
    }
   ],
   "source": [
    "# Q8\n",
    "'''The z-score is the answer to the question.\n",
    "The z-score is particularly important because it tells you not only something about the value itself,\n",
    "but also where the value lies in the distribution.\n",
    "'''"
   ]
  },
  {
   "cell_type": "code",
   "execution_count": 1,
   "id": "5924bb93-9f70-4151-bb2e-7c83c91898c2",
   "metadata": {},
   "outputs": [
    {
     "data": {
      "text/plain": [
       "'The central limit theorem relies on the concept of a sampling distribution, which is the probability distribution of a\\n  statistic for a large number of samples taken from a populaton.\\n   The central limit theorem says that the sampling distribution of the mean will always be normally distribution, \\n   as long as the sample size is large enough. Regardless of wheather the population has a normal, poisson, binomial, or\\n   any other distribution the sampling distribution of the mean will be normal.\\nsignification:-\\nThe Central Limit Theorem is important for statistics because it allows us to safely assume that the sampling\\ndistributionof the mean will be normal in most cases. This means that we can take advantage of statistical \\ntechniques that assume a normal distribution, as we will see in the next section.\\n'"
      ]
     },
     "execution_count": 1,
     "metadata": {},
     "output_type": "execute_result"
    }
   ],
   "source": [
    "# Q9\n",
    "'''The central limit theorem relies on the concept of a sampling distribution, which is the probability distribution of a\n",
    "  statistic for a large number of samples taken from a populaton.\n",
    "   The central limit theorem says that the sampling distribution of the mean will always be normally distribution, \n",
    "   as long as the sample size is large enough. Regardless of wheather the population has a normal, poisson, binomial, or\n",
    "   any other distribution the sampling distribution of the mean will be normal.\n",
    "signification:-\n",
    "The Central Limit Theorem is important for statistics because it allows us to safely assume that the sampling\n",
    "distributionof the mean will be normal in most cases. This means that we can take advantage of statistical \n",
    "techniques that assume a normal distribution, as we will see in the next section.\n",
    "'''"
   ]
  },
  {
   "cell_type": "code",
   "execution_count": null,
   "id": "05e164d1-9993-4e19-be83-7fec5e95ddd4",
   "metadata": {},
   "outputs": [],
   "source": [
    "# Q10\n",
    "'''Assumptions Behind the Central Limit Theorem\n",
    "It needs to be sampled at random. The samples should be unrelated to one another. \n",
    "One sample should not impact the others.\n",
    "When taking samples without replacement, the sample size should not exceed 10% of the population.\n",
    "'''"
   ]
  }
 ],
 "metadata": {
  "kernelspec": {
   "display_name": "Python 3 (ipykernel)",
   "language": "python",
   "name": "python3"
  },
  "language_info": {
   "codemirror_mode": {
    "name": "ipython",
    "version": 3
   },
   "file_extension": ".py",
   "mimetype": "text/x-python",
   "name": "python",
   "nbconvert_exporter": "python",
   "pygments_lexer": "ipython3",
   "version": "3.10.8"
  }
 },
 "nbformat": 4,
 "nbformat_minor": 5
}
